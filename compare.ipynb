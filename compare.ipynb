{
 "cells": [
  {
   "cell_type": "code",
   "execution_count": null,
   "id": "a1356c53-a93f-4ea2-8fe9-9fa2e96410aa",
   "metadata": {
    "tags": []
   },
   "outputs": [],
   "source": [
    "KD_path = \"ThuanHoa/KhoanhDat/ThuanHoa_TKDD2022.shp\"\n",
    "KetQuaPhanLoaiDat = \"KetQuaPhanLoaiDat.tif\""
   ]
  },
  {
   "cell_type": "code",
   "execution_count": null,
   "id": "8fead8f6-07d5-4181-a761-11179ed12976",
   "metadata": {},
   "outputs": [],
   "source": [
    "import geopandas as gpd\n",
    "import rasterio\n",
    "import os\n",
    "import rioxarray\n",
    "import numpy as np\n",
    "import xarray as xr"
   ]
  },
  {
   "cell_type": "code",
   "execution_count": null,
   "id": "52069795-6ce8-43e7-bef1-1f5f8fa1d30f",
   "metadata": {
    "tags": []
   },
   "outputs": [],
   "source": [
    "## map code\n",
    "CODE_MAP = {\n",
    "    \"BHK\": 2,\n",
    "    \"CLN\": 3,\n",
    "    \"DGD\": 6,\n",
    "    \"DGT\": 6,\n",
    "    \"DNL\": 6,\n",
    "    \"DRA\": 6,\n",
    "    \"DSH\": 6,\n",
    "    \"DTL\": 5,\n",
    "    \"DTS\": 6,\n",
    "    \"DYT\": 6,\n",
    "    \"LUC\": 1,\n",
    "    \"NKH\": 3,\n",
    "    \"NTD\": 6,\n",
    "    \"NTS\": 4,\n",
    "    \"ONT\": 6,\n",
    "    \"SKC\": 6,\n",
    "    \"SKX\": 6,\n",
    "    \"SON\": 5,\n",
    "    \"TMD\": 6,\n",
    "    \"TON\": 6,\n",
    "    \"TSC\": 6,\n",
    "}\n",
    "\n",
    "HT_MAP = {\n",
    "    \"NN\": {\n",
    "        \"name\": \"Đất Nông Nghiệp\",\n",
    "        \"data\": [1, 2, 3, 4]\n",
    "    },\n",
    "    \"PNN\": {\n",
    "        \"name\": \"Đất Phi Nông Nghiệp\",\n",
    "        \"data\": [6]\n",
    "    },\n",
    "    \"TQ\": {\n",
    "        \"name\": \"Đất Thổ Quả\",\n",
    "        \"data\": [15]\n",
    "    }\n",
    "}"
   ]
  },
  {
   "cell_type": "code",
   "execution_count": null,
   "id": "ac7fde1b-43b9-43d0-bdd6-3834a1ff3348",
   "metadata": {
    "tags": []
   },
   "outputs": [],
   "source": [
    "gdf = gpd.read_file(KD_path, crs=\"EPSG:9209\")\n",
    "polygon = gdf.geometry.values\n",
    "label = gdf.tenchu.values"
   ]
  },
  {
   "cell_type": "code",
   "execution_count": null,
   "id": "563436b4-6a81-44a2-8634-c90ce456cb9c",
   "metadata": {
    "tags": []
   },
   "outputs": [],
   "source": [
    "ouput_image = rioxarray.open_rasterio(KetQuaPhanLoaiDat)"
   ]
  },
  {
   "cell_type": "code",
   "execution_count": null,
   "id": "bac72a33-7a42-48bf-a6fb-8327c16fe649",
   "metadata": {
    "tags": []
   },
   "outputs": [],
   "source": [
    "result = {}\n",
    "for key, values in HT_MAP.items():\n",
    "    print(f\"process {key}\")\n",
    "    array_list = []\n",
    "    for i in range(len(polygon)):\n",
    "        po = polygon[i]\n",
    "        lb = label[i]\n",
    "        code_lb = CODE_MAP.get(lb, 15)\n",
    "        try:\n",
    "            qr = ouput_image.rio.clip([po], \"EPSG:9209\")\n",
    "            if code_lb in values[\"data\"]:\n",
    "                if code_lb == 6:\n",
    "                    qr = qr.where((qr != 6.0), np.nan)\n",
    "                    # qr = qr.where((qr != 3.0), np.nan)\n",
    "                elif code_lb == 15:\n",
    "                    qr = qr.where((qr != 6.0), np.nan)\n",
    "                    qr = qr.where((qr != 3.0), np.nan)\n",
    "                else: \n",
    "                    qr = qr.where(qr != float(code_lb), np.nan)\n",
    "            else:\n",
    "                qr.values[:, :, :] = np.nan\n",
    "            array_list.append(qr)\n",
    "        except Exception as e:\n",
    "           pass\n",
    "    result.update({key: array_list})"
   ]
  },
  {
   "cell_type": "code",
   "execution_count": null,
   "id": "b4718b21-2110-4a1e-9067-f68a1b53cec2",
   "metadata": {
    "tags": []
   },
   "outputs": [],
   "source": [
    "from rioxarray.merge import merge_arrays\n",
    "from matplotlib.colors import ListedColormap\n",
    "import matplotlib.pyplot as plt\n",
    "colors = [\n",
    "    \"#abcee9\",\n",
    "    \"#ffffc0\",\n",
    "    \"#c4ff9e\",\n",
    "    \"#ffd6a8\",\n",
    "    \"#93ddda\",\n",
    "    \"#1aeef7\",\n",
    "    \"#ffa7f2\",\n",
    "    \"#33ee33\"\n",
    "]\n",
    "labels = [\n",
    "    \"Lúa tôm\",\n",
    "    \"Lúa\",\n",
    "    \"CHN\",\n",
    "    \"CLN\",\n",
    "    \"TS\",\n",
    "    \"Sông\",\n",
    "    \"Đất xây dựng\",\n",
    "    \"Rừng\"\n",
    "]\n",
    "cmap = ListedColormap(colors)"
   ]
  },
  {
   "cell_type": "code",
   "execution_count": null,
   "id": "27275ef1-7585-489b-84b7-4eeec994c6b4",
   "metadata": {
    "tags": []
   },
   "outputs": [],
   "source": [
    "save_path = \"ThuanHoa/KetQua\"\n",
    "if not os.path.exists(save_path):\n",
    "    os.mkdir(save_path)\n",
    "\n",
    "for k, v in result.items():\n",
    "    rs = merge_arrays(v, nodata = np.nan)\n",
    "    rs.rio.to_raster(f\"{save_path}/{k}.tif\")\n",
    "    img = rs.plot(cmap=cmap, add_colorbar=False)\n",
    "    cbar = plt.colorbar(img)\n",
    "    cbar.ax.set_yticklabels(labels)\n",
    "    plt.title(f'{HT_MAP[k][\"name\"]}')\n",
    "    plt.axis('off')\n",
    "    plt.show()"
   ]
  },
  {
   "cell_type": "code",
   "execution_count": null,
   "id": "b3859f47-0834-4364-b62d-20b24d3a172a",
   "metadata": {
    "tags": []
   },
   "outputs": [],
   "source": [
    "# Add the three datasets into a DataArray wth new dimension by name\n",
    "\n",
    "import pandas as pd\n",
    "xx = []\n",
    "\n",
    "for k, v in result.items():\n",
    "    rs = merge_arrays(v, nodata = np.nan)\n",
    "    xx.append(rs.squeeze(drop=True))\n",
    "xx = xr.concat(xx, pd.Index([HT_MAP[x]['name'] for x in HT_MAP], name='name'))"
   ]
  },
  {
   "cell_type": "code",
   "execution_count": null,
   "id": "522e25d2-f998-4999-b7a3-75415d1c91fa",
   "metadata": {
    "tags": []
   },
   "outputs": [],
   "source": [
    "# Holoviews with \"groupby\" name dimension - adds a \"name\" dropdown widget to select between the three datasets\n",
    "\n",
    "import hvplot.xarray\n",
    "from holoviews import opts\n",
    "from datashader import reductions\n",
    "from bokeh.models.tickers import FixedTicker\n",
    "\n",
    "colorval = list(range(len(colors)))\n",
    "options = {\n",
    "    'cmap': colors,\n",
    "    'clim': (0, 8),\n",
    "    'aspect': 'equal',\n",
    "    'height': 400,\n",
    "    'colorbar_opts': {\n",
    "        'major_label_overrides': dict(zip(colorval, labels)),\n",
    "        'major_label_text_align': 'left',\n",
    "        'ticker': FixedTicker(ticks=colorval),\n",
    "    },\n",
    "}\n",
    "                                      \n",
    "xx.hvplot(\n",
    "    groupby = 'name',\n",
    "    rasterize = True,                        # Use Datashader, particularly useful for dask arrays\n",
    "    aggregator = reductions.mode(),          # Datashader selects mode value, requires 'hv.Image'\n",
    ").options(opts.Image(**options))"
   ]
  },
  {
   "cell_type": "code",
   "execution_count": null,
   "id": "c87f31d9-1758-4de6-ac19-8b5e41bd406e",
   "metadata": {},
   "outputs": [],
   "source": []
  }
 ],
 "metadata": {
  "kernelspec": {
   "display_name": "Python 3 (ipykernel)",
   "language": "python",
   "name": "python3"
  },
  "language_info": {
   "codemirror_mode": {
    "name": "ipython",
    "version": 3
   },
   "file_extension": ".py",
   "mimetype": "text/x-python",
   "name": "python",
   "nbconvert_exporter": "python",
   "pygments_lexer": "ipython3",
   "version": "3.10.12"
  }
 },
 "nbformat": 4,
 "nbformat_minor": 5
}
