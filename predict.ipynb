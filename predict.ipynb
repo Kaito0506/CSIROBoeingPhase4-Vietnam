{
 "cells": [
  {
   "cell_type": "code",
   "execution_count": null,
   "id": "92b9d101-8bf1-42a3-8401-0d7b3036f8f8",
   "metadata": {
    "tags": []
   },
   "outputs": [],
   "source": [
    "#Setup\n",
    "\n",
    "min_date = '2022-09-01' # Start time\n",
    "max_date = '2023-10-01' # End time\n",
    "thuanhoa_path = \"ThuanHoa/region/ST_ThuanHoa_Boundaryofficially.shp\"\n",
    "VH_file = \"ThuanHoa/ThuanHoa_VH.tif\"\n",
    "VV_file = \"ThuanHoa/ThuanHoa_VV.tif\"\n",
    "min_longitude, max_longitude = (105.86575, 105.94120)\n",
    "min_latitude, max_latitude = (9.65070, 9.69850)\n",
    "product = 's2_l2a'"
   ]
  },
  {
   "cell_type": "code",
   "execution_count": null,
   "id": "013f4b86-ac17-406e-b23f-7a2d2991386d",
   "metadata": {
    "tags": []
   },
   "outputs": [],
   "source": [
    "%%time\n",
    "# Basic plots\n",
    "%matplotlib inline\n",
    "import matplotlib.pyplot as plt\n",
    "# plt.rcParams['figure.figsize'] = [12, 8]\n",
    "\n",
    "# Common imports and settings\n",
    "import os, sys\n",
    "os.environ['USE_PYGEOS'] = '0'\n",
    "from IPython.display import Markdown\n",
    "import pandas as pd\n",
    "pd.set_option(\"display.max_rows\", None)\n",
    "import xarray as xr\n",
    "\n",
    "# Datacube\n",
    "import datacube\n",
    "from datacube.utils.rio import configure_s3_access\n",
    "from datacube.utils import masking\n",
    "from datacube.utils.cog import write_cog\n",
    "# https://github.com/GeoscienceAustralia/dea-notebooks/tree/develop/Tools\n",
    "from dea_tools.plotting import display_map, rgb\n",
    "from dea_tools.datahandling import mostcommon_crs\n",
    "\n",
    "# EASI defaults\n",
    "easinotebooksrepo = '/home/jovyan/easi-notebooks'\n",
    "if easinotebooksrepo not in sys.path: sys.path.append(easinotebooksrepo)\n",
    "from easi_tools import EasiDefaults, xarray_object_size, notebook_utils, unset_cachingproxy\n",
    "from easi_tools.load_s2l2a import load_s2l2a_with_offset\n",
    "\n",
    "# Data tools\n",
    "import numpy as np\n",
    "from datetime import datetime\n",
    "\n",
    "# Datacube\n",
    "from datacube.utils import masking  # https://github.com/opendatacube/datacube-core/blob/develop/datacube/utils/masking.py\n",
    "from odc.algo import enum_to_bool   # https://github.com/opendatacube/odc-algo/blob/main/odc/algo/_masking.py\n",
    "from odc.algo import xr_reproject   # https://github.com/opendatacube/odc-algo/blob/main/odc/algo/_warp.py\n",
    "from datacube.utils.geometry import GeoBox, box  # https://github.com/opendatacube/datacube-core/blob/develop/datacube/utils/geometry/_base.py\n",
    "\n",
    "# Holoviews, Datashader and Bokeh\n",
    "import hvplot.pandas\n",
    "import hvplot.xarray\n",
    "import holoviews as hv\n",
    "import panel as pn\n",
    "import colorcet as cc\n",
    "import cartopy.crs as ccrs\n",
    "from datashader import reductions\n",
    "from holoviews import opts\n",
    "from utils import load_data_geo\n",
    "import rasterio\n",
    "import os\n",
    "import rioxarray\n",
    "# import geoviews as gv\n",
    "# from holoviews.operation.datashader import rasterize\n",
    "hv.extension('bokeh', logo=False)\n",
    "\n",
    "from deafrica_tools.bandindices import calculate_indices\n",
    "import numpy as np\n",
    "from sklearn.ensemble import RandomForestClassifier\n",
    "from sklearn.model_selection import train_test_split\n",
    "from sklearn.metrics import accuracy_score, classification_report\n",
    "from sklearn.preprocessing import LabelEncoder\n",
    "\n",
    "from sklearn.pipeline import Pipeline\n",
    "from sklearn.ensemble import RandomForestClassifier\n",
    "from sklearn.impute import SimpleImputer\n",
    "from sklearn.preprocessing import StandardScaler\n",
    "from sklearn.model_selection import GridSearchCV\n",
    "from sklearn.model_selection import train_test_split\n",
    "from sklearn.metrics import accuracy_score\n",
    "\n",
    "import joblib"
   ]
  },
  {
   "cell_type": "code",
   "execution_count": null,
   "id": "b5314068-2505-433c-8a7d-0d34d2561304",
   "metadata": {
    "tags": []
   },
   "outputs": [],
   "source": [
    "\n",
    "# Dask gateway\n",
    "\n",
    "cluster, client = notebook_utils.initialize_dask(use_gateway=True, workers=(1,4))\n",
    "client"
   ]
  },
  {
   "cell_type": "code",
   "execution_count": null,
   "id": "1446016c-b1d6-4130-a06e-5ab14cb50ea7",
   "metadata": {
    "tags": []
   },
   "outputs": [],
   "source": [
    "dc = datacube.Datacube()\n",
    "\n",
    "# Access AWS \"requester-pays\" buckets\n",
    "# This is necessary for reading data from most third-party AWS S3 buckets such as for Landsat and Sentinel-2\n",
    "configure_s3_access(aws_unsigned=False, requester_pays=True, client=client)"
   ]
  },
  {
   "cell_type": "code",
   "execution_count": null,
   "id": "60da7f3c-f60a-4d81-9d2e-d956470cb0a4",
   "metadata": {
    "tags": []
   },
   "outputs": [],
   "source": [
    "query = {\n",
    "    'product': product,                     # Product name\n",
    "    'x': (min_longitude, max_longitude),    # \"x\" axis bounds\n",
    "    'y': (min_latitude, max_latitude),      # \"y\" axis bounds\n",
    "    'time': (min_date, max_date),           # Any parsable date strings\n",
    "}\n"
   ]
  },
  {
   "cell_type": "code",
   "execution_count": null,
   "id": "b1e3e59d-f1e7-4ac5-a095-8855069e464b",
   "metadata": {
    "tags": []
   },
   "outputs": [],
   "source": [
    "# Most common CRS\n",
    "native_crs = notebook_utils.mostcommon_crs(dc, query)\n",
    "print(f'Most common native CRS: {native_crs}')"
   ]
  },
  {
   "cell_type": "code",
   "execution_count": null,
   "id": "8a4b1bfc-8bd1-4a76-9b98-c19bc92b4a1e",
   "metadata": {
    "tags": []
   },
   "outputs": [],
   "source": [
    "measurements = ['blue', 'green', 'red', 'nir', 'scl']\n",
    "\n",
    "load_params = {\n",
    "    'measurements': measurements,                   # Selected measurement or alias names\n",
    "    'output_crs': native_crs,                       # Target EPSG code\n",
    "    'resolution': (-10, 10),                        # Target resolution\n",
    "    'group_by': 'solar_day',                        # Scene grouping\n",
    "    'dask_chunks': {'x': 2048, 'y': 2048},          # Dask chunks\n",
    "}"
   ]
  },
  {
   "cell_type": "code",
   "execution_count": null,
   "id": "740ee843-d4aa-485f-9091-bc54aa7ae5a3",
   "metadata": {
    "tags": []
   },
   "outputs": [],
   "source": [
    "%%time\n",
    "# The replacement \"dc.load()\" function for this product\n",
    "data = load_s2l2a_with_offset(\n",
    "    dc,\n",
    "    query | load_params   # Combine the two dicts that contain our search and load parameters\n",
    ")\n",
    "\n",
    "# This line prints the total size of the dataset hat was loaded\n",
    "notebook_utils.heading(notebook_utils.xarray_object_size(data))\n",
    "\n",
    "display(data)"
   ]
  },
  {
   "cell_type": "code",
   "execution_count": null,
   "id": "ef7f47d2-2939-4bee-a612-93bf5176717e",
   "metadata": {
    "tags": []
   },
   "outputs": [],
   "source": [
    "flag_name = 'scl'\n",
    "flag_desc = masking.describe_variable_flags(data[flag_name])  # Pandas dataframe\n",
    "display(flag_desc)\n",
    "display(flag_desc.loc['qa'].values[1])"
   ]
  },
  {
   "cell_type": "code",
   "execution_count": null,
   "id": "c1c4ae77-14de-4cd8-b543-9f80327ed357",
   "metadata": {
    "tags": []
   },
   "outputs": [],
   "source": [
    "# Create a \"data quality\" Mask layer\n",
    "flags_def = flag_desc.loc['qa'].values[1]\n",
    "good_pixel_flags = [flags_def[str(i)] for i in [2, 4, 5, 6]]  # To pass strings to enum_to_bool()\n",
    "\n",
    "# enum_to_bool calculates the pixel-wise \"or\" of each set of pixels given by good_pixel_flags\n",
    "# 1 = good data\n",
    "# 0 = \"bad\" data\n",
    "\n",
    "good_pixel_mask = enum_to_bool(data[flag_name], good_pixel_flags)  # -> DataArray\n",
    "# display(good_pixel_mask)  # Type: bool"
   ]
  },
  {
   "cell_type": "code",
   "execution_count": null,
   "id": "7e92a792-28d9-4aff-9988-6b9ed5ad76aa",
   "metadata": {
    "tags": []
   },
   "outputs": [],
   "source": [
    "data_layer_names = [x for x in data.data_vars if x != 'scl']\n",
    "rs = []\n",
    "for layer_name in data_layer_names:\n",
    "    # Apply valid mask (calculated above) and good pixel mask\n",
    "    # layer = data[[layer_name]].where(valid_mask[layer_name] & good_pixel_mask)\n",
    "    layer = data[[layer_name]].where(good_pixel_mask)\n",
    "    rs.append(layer)\n",
    "    \n",
    "# Calculate intermediate result\n",
    "result = xr.merge(rs).persist()"
   ]
  },
  {
   "cell_type": "code",
   "execution_count": null,
   "id": "73c71edd-ecbf-4956-9a78-21559cba4499",
   "metadata": {
    "tags": []
   },
   "outputs": [],
   "source": [
    "from dask.distributed import wait, progress\n",
    "\n",
    "progress(result)"
   ]
  },
  {
   "cell_type": "markdown",
   "id": "1ac78db7-7c33-4e0d-a999-27dab4fbcb64",
   "metadata": {},
   "source": [
    "### Calculate NDVI based on monthly average"
   ]
  },
  {
   "cell_type": "code",
   "execution_count": null,
   "id": "222a9969-16dc-40cd-9de0-4a5638908384",
   "metadata": {
    "tags": []
   },
   "outputs": [],
   "source": [
    "ds1 = calculate_indices(result, index='NDVI', satellite_mission='s2')\n",
    "ndvi = ds1[\"NDVI\"]\n",
    "average_ndvi = ndvi.resample(time='1M').mean().persist()  ## tính mean cho từng tháng -> time = 13\n",
    "average_ndvi  # DataArray"
   ]
  },
  {
   "cell_type": "markdown",
   "id": "e16eded5-646f-40b6-b234-f96fa2189d6f",
   "metadata": {},
   "source": [
    "### Filled with Nan value"
   ]
  },
  {
   "cell_type": "code",
   "execution_count": null,
   "id": "d73123ce-5d37-4df5-ae91-f2193156b5b8",
   "metadata": {
    "tags": []
   },
   "outputs": [],
   "source": [
    "average_ndvi = average_ndvi.compute()\n",
    "plt.imshow(average_ndvi.isel(time=5))"
   ]
  },
  {
   "cell_type": "code",
   "execution_count": null,
   "id": "54adc5b6-1b6f-4afc-b088-e5b46280a07c",
   "metadata": {
    "tags": []
   },
   "outputs": [],
   "source": [
    "filled_ds = average_ndvi.bfill(dim='time')\n",
    "filled_ds = filled_ds.ffill(dim='time')\n",
    "plt.imshow(filled_ds.isel(time=5))"
   ]
  },
  {
   "cell_type": "markdown",
   "id": "b0eb1f6d-28a1-44e5-88ae-d5a8e00a7ac1",
   "metadata": {},
   "source": [
    "### Load VH, VV"
   ]
  },
  {
   "cell_type": "code",
   "execution_count": null,
   "id": "b9587a61-3046-499c-8195-6fbf75805293",
   "metadata": {
    "tags": []
   },
   "outputs": [],
   "source": [
    "dsvv = rioxarray.open_rasterio(VV_file)\n",
    "dsvh = rioxarray.open_rasterio(VH_file)"
   ]
  },
  {
   "cell_type": "code",
   "execution_count": null,
   "id": "a2e233dd-c9b6-471a-a353-80a5680e38ef",
   "metadata": {
    "tags": []
   },
   "outputs": [],
   "source": [
    "plt.imshow(dsvh.isel(band=5))"
   ]
  },
  {
   "cell_type": "code",
   "execution_count": null,
   "id": "7978acf8-e50d-4d64-b126-af929d9678cc",
   "metadata": {
    "tags": []
   },
   "outputs": [],
   "source": [
    "plt.imshow(dsvv.isel(band=5))"
   ]
  },
  {
   "cell_type": "markdown",
   "id": "0e45aad9-1faa-478b-8a0d-b30784e65a72",
   "metadata": {},
   "source": [
    "### Load training model and predict"
   ]
  },
  {
   "cell_type": "code",
   "execution_count": null,
   "id": "4424ece1-21a5-4a46-b05b-82edea192d7c",
   "metadata": {
    "tags": []
   },
   "outputs": [],
   "source": [
    "import joblib\n",
    "dir_save_model = \"model_train\"\n",
    "\n",
    "data_predict = []\n",
    "for i in range(filled_ds.shape[1]):\n",
    "    ndvi_tmp = filled_ds.isel(y=i).values\n",
    "    vh_data = dsvh.sel(y=filled_ds.y.values[i], method='nearest').values\n",
    "    vv_data = dsvv.sel(y=filled_ds.y.values[i], method='nearest').values\n",
    "    all_tmp = np.concatenate((ndvi_tmp, vh_data, vv_data), axis=0)\n",
    "    data_predict.extend(all_tmp.T)\n",
    "\n",
    "\n",
    "loaded_model = joblib.load(os.path.join(dir_save_model, \"model.joblib\"))\n",
    "y_pred = loaded_model.predict(data_predict)\n",
    "final_label = y_pred.reshape(filled_ds.y.shape[0], filled_ds.x.shape[0])"
   ]
  },
  {
   "cell_type": "markdown",
   "id": "d3cf003f-cc78-41b1-b0b5-5a0bfb76bf3a",
   "metadata": {},
   "source": [
    "### Convert array result to xarray result"
   ]
  },
  {
   "cell_type": "code",
   "execution_count": null,
   "id": "c6e9d2bf-eed9-4b98-814d-5b427a19d988",
   "metadata": {
    "tags": []
   },
   "outputs": [],
   "source": [
    "from shapely.geometry import Point, Polygon\n",
    "from pyproj import CRS\n",
    "import rioxarray\n",
    "\n",
    "final_xarray_save = xr.DataArray(final_label, dims=(\"y\", \"x\"))\n",
    "final_xarray_save = final_xarray_save.rio.write_crs(data.rio.crs)\n",
    "\n",
    "x_values = average_ndvi.x.values\n",
    "y_values = average_ndvi.y.values\n",
    "\n",
    "data_array = xr.DataArray(final_xarray_save,\n",
    "                          coords={'x': x_values, 'y': y_values},\n",
    "                          dims=['y', 'x'])\n",
    "data_array = data_array.rio.write_crs(average_ndvi.rio.crs)"
   ]
  },
  {
   "cell_type": "markdown",
   "id": "ce6ac141-1cc2-442b-b9ff-e8329f8b40ef",
   "metadata": {},
   "source": [
    "### Load shape file Thuan Hoa"
   ]
  },
  {
   "cell_type": "code",
   "execution_count": null,
   "id": "2e27d0b1-5822-4ae7-a35b-cf647c35d527",
   "metadata": {
    "tags": []
   },
   "outputs": [],
   "source": [
    "from shapely.geometry import Point, Polygon\n",
    "import geopandas as gpd\n",
    "\n",
    "\n",
    "gdf = gpd.read_file(thuanhoa_path)\n",
    "gdf = gdf.to_crs(average_ndvi.rio.crs)\n",
    "polygon_coords = list(gdf.geometry.values[0].exterior.coords)\n",
    "polygon_coordinates = [(x, y) for x, y in polygon_coords]\n",
    "\n",
    "geometries = [\n",
    "    {\n",
    "        'type': 'Polygon',\n",
    "        'coordinates': [polygon_coordinates]\n",
    "    }\n",
    "]"
   ]
  },
  {
   "cell_type": "code",
   "execution_count": null,
   "id": "58056759-394b-4397-979f-4199a13c06b2",
   "metadata": {
    "tags": []
   },
   "outputs": [],
   "source": [
    "gdf.geometry.plot()"
   ]
  },
  {
   "cell_type": "markdown",
   "id": "1245ce1f-d287-486a-82cb-3bad94de958b",
   "metadata": {},
   "source": [
    "### Define color and label"
   ]
  },
  {
   "cell_type": "code",
   "execution_count": null,
   "id": "b4996271-5c68-4722-8c1d-d94e449a4a4b",
   "metadata": {
    "tags": []
   },
   "outputs": [],
   "source": [
    "from matplotlib.colors import ListedColormap\n",
    "## label color\n",
    "colors = [\n",
    "    \"#abcee9\",\n",
    "    \"#ffef44\",\n",
    "    \"#c4ff9e\",\n",
    "    \"#ffd6a8\",\n",
    "    \"#93ddda\",\n",
    "    \"#1aeef7\",\n",
    "    \"#ffa7f2\",\n",
    "    \"#33ee33\"\n",
    "]\n",
    "labels = [\n",
    "    \"Lúa tôm\",\n",
    "    \"Lúa\",\n",
    "    \"CHN\",\n",
    "    \"CLN\",\n",
    "    \"TS\",\n",
    "    \"Sông\",\n",
    "    \"Đất xây dựng\",\n",
    "    \"Rừng\"\n",
    "]"
   ]
  },
  {
   "cell_type": "code",
   "execution_count": null,
   "id": "243860c1-ab14-42bd-b327-5dbff9995429",
   "metadata": {
    "tags": []
   },
   "outputs": [],
   "source": [
    "cmap = ListedColormap(colors)\n",
    "img = data_array.plot(cmap=cmap, add_colorbar=False)\n",
    "cbar = plt.colorbar(img)\n",
    "cbar.ax.set_yticklabels(labels)\n",
    "plt.title(\"Phân loại sử dụng đất\")\n",
    "plt.axis('off')\n",
    "plt.show()"
   ]
  },
  {
   "cell_type": "markdown",
   "id": "10ec191b-3d75-458a-8d6c-85c40483001f",
   "metadata": {},
   "source": [
    "### Crop the result according to the Thuan Hoa boundary"
   ]
  },
  {
   "cell_type": "code",
   "execution_count": null,
   "id": "ce28121a-ab84-4b7b-aded-fcce5cd0917e",
   "metadata": {
    "tags": []
   },
   "outputs": [],
   "source": [
    "region_result = data_array.rio.clip(geometries, data_array.rio.crs, drop=False)\n",
    "region_result = region_result.where(region_result >= 0, float('nan'))"
   ]
  },
  {
   "cell_type": "code",
   "execution_count": null,
   "id": "6dfc83ce-3bf4-43d8-8ef8-0a2eb7ef1faa",
   "metadata": {
    "tags": []
   },
   "outputs": [],
   "source": [
    "cmap = ListedColormap(colors)\n",
    "img = region_result.plot(cmap=cmap, add_colorbar=False)\n",
    "cbar = plt.colorbar(img)\n",
    "cbar.ax.set_yticklabels(labels)\n",
    "plt.title(\"Phân loại sử dụng đất\")\n",
    "plt.axis('off')\n",
    "plt.show()"
   ]
  },
  {
   "cell_type": "code",
   "execution_count": null,
   "id": "3f7df832-4961-4920-98f2-65f6ee048577",
   "metadata": {
    "tags": []
   },
   "outputs": [],
   "source": [
    "# Example using Hvplot and Holoviews\n",
    "# for dynamic plots (zoom, scroll)\n",
    "\n",
    "import hvplot.xarray\n",
    "from holoviews import opts\n",
    "from datashader import reductions\n",
    "from bokeh.models.tickers import FixedTicker\n",
    "\n",
    "colorval = list(range(len(colors)))\n",
    "options = {\n",
    "    'title': 'Phân loại sử dụng đất',\n",
    "    'cmap': colors,\n",
    "    'clim': (0, 8),\n",
    "    'aspect': 'equal',\n",
    "    'colorbar_opts': {\n",
    "        'major_label_overrides': dict(zip(colorval, labels)),\n",
    "        'major_label_text_align': 'left',\n",
    "        'ticker': FixedTicker(ticks=colorval),\n",
    "    },\n",
    "}\n",
    "                                      \n",
    "region_result.hvplot(\n",
    "    rasterize = True,                        # Use Datashader, particularly useful for dask arrays\n",
    "    aggregator = reductions.mode(),          # Datashader selects mode value, requires 'hv.Image'\n",
    ").options(opts.Image(**options))"
   ]
  },
  {
   "cell_type": "code",
   "execution_count": null,
   "id": "85b3d58a-0249-48bf-9c87-f91366a56d76",
   "metadata": {
    "tags": []
   },
   "outputs": [],
   "source": [
    "region_result.rio.to_raster(\"KetQuaPhanLoaiDat.tif\")"
   ]
  },
  {
   "cell_type": "code",
   "execution_count": null,
   "id": "e3073712-f236-4a4a-90b8-ebf7d3172661",
   "metadata": {
    "tags": []
   },
   "outputs": [],
   "source": [
    "client.close()\n",
    "cluster.close()"
   ]
  }
 ],
 "metadata": {
  "kernelspec": {
   "display_name": "Python 3 (ipykernel)",
   "language": "python",
   "name": "python3"
  },
  "language_info": {
   "codemirror_mode": {
    "name": "ipython",
    "version": 3
   },
   "file_extension": ".py",
   "mimetype": "text/x-python",
   "name": "python",
   "nbconvert_exporter": "python",
   "pygments_lexer": "ipython3",
   "version": "3.10.12"
  }
 },
 "nbformat": 4,
 "nbformat_minor": 5
}
