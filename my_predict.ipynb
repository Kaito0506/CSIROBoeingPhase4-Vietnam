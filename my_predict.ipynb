{
 "cells": [
  {
   "cell_type": "code",
   "execution_count": null,
   "metadata": {},
   "outputs": [],
   "source": [
    "import rioxarray\n",
    "min_date = '2022-09-01' # Start time\n",
    "max_date = '2023-10-01' # End time\n",
    "thuanhoa_path = \"ThuanHoa/region/ST_ThuanHoa_Boundaryofficially.shp\"\n",
    "VH_file = \"ThuanHoa/ThuanHoa_VH.tif\"\n",
    "VV_file = \"ThuanHoa/ThuanHoa_VV.tif\""
   ]
  },
  {
   "cell_type": "code",
   "execution_count": null,
   "metadata": {},
   "outputs": [],
   "source": [
    "%%time\n",
    "# Basic plots\n",
    "%matplotlib inline\n",
    "import matplotlib.pyplot as plt\n",
    "# plt.rcParams['figure.figsize'] = [12, 8]\n",
    "\n",
    "# Common imports and settings\n",
    "import os, sys\n",
    "os.environ['USE_PYGEOS'] = '0'\n",
    "from IPython.display import Markdown\n",
    "import pandas as pd\n",
    "pd.set_option(\"display.max_rows\", None)\n",
    "import xarray as xr\n",
    "\n",
    "# Datacube\n",
    "import datacube\n",
    "from datacube.utils.rio import configure_s3_access\n",
    "from datacube.utils import masking\n",
    "from datacube.utils.cog import write_cog\n",
    "# https://github.com/GeoscienceAustralia/dea-notebooks/tree/develop/Tools\n",
    "from dea_tools.plotting import display_map, rgb\n",
    "from dea_tools.datahandling import mostcommon_crs\n",
    "\n",
    "# EASI defaults\n",
    "easinotebooksrepo = '/home/kaito/CSIROBoeingPhase4-Vietnam/easi-notebooks'\n",
    "if easinotebooksrepo not in sys.path: sys.path.append(easinotebooksrepo)\n",
    "from easi_tools import EasiDefaults, xarray_object_size, notebook_utils, unset_cachingproxy\n",
    "from easi_tools.load_s2l2a import load_s2l2a_with_offset\n",
    "\n",
    "# Data tools\n",
    "import numpy as np\n",
    "from datetime import datetime\n",
    "\n",
    "# Datacube\n",
    "from datacube.utils import masking  # https://github.com/opendatacube/datacube-core/blob/develop/datacube/utils/masking.py\n",
    "from odc.algo import enum_to_bool   # https://github.com/opendatacube/odc-algo/blob/main/odc/algo/_masking.py\n",
    "from odc.algo import xr_reproject   # https://github.com/opendatacube/odc-algo/blob/main/odc/algo/_warp.py\n",
    "from datacube.utils.geometry import GeoBox, box  # https://github.com/opendatacube/datacube-core/blob/develop/datacube/utils/geometry/_base.py\n",
    "\n",
    "# Holoviews, Datashader and Bokeh\n",
    "import hvplot.pandas\n",
    "import hvplot.xarray\n",
    "import holoviews as hv\n",
    "import panel as pn\n",
    "import colorcet as cc\n",
    "# import cartopy.crs as ccrs\n",
    "# from datashader import reductions\n",
    "from holoviews import opts\n",
    "from utils import load_data_geo\n",
    "import rasterio\n",
    "import os\n",
    "import rioxarray\n",
    "# import geoviews as gv\n",
    "# from holoviews.operation.datashader import rasterize\n",
    "hv.extension('bokeh', logo=False)\n",
    "\n",
    "from deafrica_tools.bandindices import calculate_indices\n",
    "import numpy as np\n",
    "from sklearn.ensemble import RandomForestClassifier\n",
    "from sklearn.model_selection import train_test_split\n",
    "from sklearn.metrics import accuracy_score, classification_report\n",
    "from sklearn.preprocessing import LabelEncoder\n",
    "\n",
    "from sklearn.pipeline import Pipeline\n",
    "from sklearn.ensemble import RandomForestClassifier\n",
    "from sklearn.impute import SimpleImputer\n",
    "from sklearn.preprocessing import StandardScaler\n",
    "from sklearn.model_selection import GridSearchCV\n",
    "from sklearn.model_selection import train_test_split\n",
    "from sklearn.metrics import accuracy_score\n",
    "\n",
    "import joblib"
   ]
  },
  {
   "cell_type": "markdown",
   "metadata": {},
   "source": [
    "LOAD NDVI"
   ]
  },
  {
   "cell_type": "code",
   "execution_count": 47,
   "metadata": {},
   "outputs": [
    {
     "name": "stdout",
     "output_type": "stream",
     "text": [
      "<xarray.DataArray 'y' (y: 532)> Size: 4kB\n",
      "array([1072225., 1072215., 1072205., ..., 1066935., 1066925., 1066915.])\n",
      "Coordinates:\n",
      "    time         datetime64[ns] 8B 2022-09-02T03:35:38.706000\n",
      "  * y            (y) float64 4kB 1.072e+06 1.072e+06 ... 1.067e+06 1.067e+06\n",
      "    spatial_ref  int32 4B ...\n",
      "Attributes:\n",
      "    units:       metre\n",
      "    resolution:  -10.0\n",
      "    crs:         EPSG:32648\n"
     ]
    }
   ],
   "source": [
    "import json\n",
    "import xarray as xr\n",
    "\n",
    "output_dir = 'data_file'\n",
    "output_file = os.path.join(output_dir, 'data.nc')\n",
    "\n",
    "# Function to convert JSON strings back to dictionaries\n",
    "def restore_json_attrs(data):\n",
    "    for var_name, variable in data.variables.items():\n",
    "        for attr_name, attr_value in variable.attrs.items():\n",
    "            if isinstance(attr_value, str):\n",
    "                try:\n",
    "                    # Attempt to convert the JSON string back to a dictionary\n",
    "                    variable.attrs[attr_name] = json.loads(attr_value)\n",
    "                except json.JSONDecodeError:\n",
    "                    # If it fails, it's not a JSON string, so keep it as is\n",
    "                    pass\n",
    "\n",
    "# Load the data\n",
    "data = xr.open_dataset(output_file)\n",
    "\n",
    "# Restore the attributes\n",
    "restore_json_attrs(data)\n",
    "\n",
    "# Now you can use the dataset with the restored attributes\n",
    "print(data['blue'][0]['y'])\n",
    "# display(data)\n",
    "\n",
    "\n"
   ]
  },
  {
   "cell_type": "code",
   "execution_count": 28,
   "metadata": {},
   "outputs": [
    {
     "data": {
      "text/html": [
       "<div>\n",
       "<style scoped>\n",
       "    .dataframe tbody tr th:only-of-type {\n",
       "        vertical-align: middle;\n",
       "    }\n",
       "\n",
       "    .dataframe tbody tr th {\n",
       "        vertical-align: top;\n",
       "    }\n",
       "\n",
       "    .dataframe thead th {\n",
       "        text-align: right;\n",
       "    }\n",
       "</style>\n",
       "<table border=\"1\" class=\"dataframe\">\n",
       "  <thead>\n",
       "    <tr style=\"text-align: right;\">\n",
       "      <th></th>\n",
       "      <th>bits</th>\n",
       "      <th>values</th>\n",
       "      <th>description</th>\n",
       "    </tr>\n",
       "  </thead>\n",
       "  <tbody>\n",
       "    <tr>\n",
       "      <th>qa</th>\n",
       "      <td>[0, 1, 2, 3, 4, 5, 6, 7]</td>\n",
       "      <td>{'0': 'no data', '1': 'saturated or defective'...</td>\n",
       "      <td>Sen2Cor Scene Classification</td>\n",
       "    </tr>\n",
       "  </tbody>\n",
       "</table>\n",
       "</div>"
      ],
      "text/plain": [
       "                        bits  \\\n",
       "qa  [0, 1, 2, 3, 4, 5, 6, 7]   \n",
       "\n",
       "                                               values  \\\n",
       "qa  {'0': 'no data', '1': 'saturated or defective'...   \n",
       "\n",
       "                     description  \n",
       "qa  Sen2Cor Scene Classification  "
      ]
     },
     "metadata": {},
     "output_type": "display_data"
    },
    {
     "data": {
      "text/plain": [
       "{'0': 'no data',\n",
       " '1': 'saturated or defective',\n",
       " '2': 'dark area pixels',\n",
       " '3': 'cloud shadows',\n",
       " '4': 'vegetation',\n",
       " '5': 'bare soils',\n",
       " '6': 'water',\n",
       " '7': 'unclassified',\n",
       " '8': 'cloud medium probability',\n",
       " '9': 'cloud high probability',\n",
       " '10': 'thin cirrus',\n",
       " '11': 'snow or ice'}"
      ]
     },
     "metadata": {},
     "output_type": "display_data"
    }
   ],
   "source": [
    "flag_name = 'scl'\n",
    "flag_desc = masking.describe_variable_flags(data[flag_name])  # Pandas dataframe\n",
    "display(flag_desc)\n",
    "display(flag_desc.loc['qa'].values[1])"
   ]
  },
  {
   "cell_type": "code",
   "execution_count": 29,
   "metadata": {},
   "outputs": [],
   "source": [
    "# Create a \"data quality\" Mask layer\n",
    "flags_def = flag_desc.loc['qa'].values[1]\n",
    "good_pixel_flags = [flags_def[str(i)] for i in [2, 4, 5, 6]]  # To pass strings to enum_to_bool()\n",
    "\n",
    "# enum_to_bool calculates the pixel-wise \"or\" of each set of pixels given by good_pixel_flags\n",
    "# 1 = good data\n",
    "# 0 = \"bad\" data\n",
    "\n",
    "good_pixel_mask = enum_to_bool(data[flag_name], good_pixel_flags)  # -> DataArray\n",
    "# display(good_pixel_mask)  # Type: bool"
   ]
  },
  {
   "cell_type": "code",
   "execution_count": 39,
   "metadata": {},
   "outputs": [
    {
     "name": "stdout",
     "output_type": "stream",
     "text": [
      "<xarray.DataArray 'scl' (time: 78, y: 532, x: 830)> Size: 34MB\n",
      "array([[[255, 255, ..., 255, 255],\n",
      "        [255, 255, ..., 255, 255],\n",
      "        ...,\n",
      "        [255, 255, ..., 255, 255],\n",
      "        [255, 255, ..., 255, 255]],\n",
      "\n",
      "       [[255, 255, ..., 255, 255],\n",
      "        [255, 255, ..., 255, 255],\n",
      "        ...,\n",
      "        [255, 255, ..., 255, 255],\n",
      "        [255, 255, ..., 255, 255]],\n",
      "\n",
      "       ...,\n",
      "\n",
      "       [[255, 255, ..., 255, 255],\n",
      "        [255, 255, ..., 255, 255],\n",
      "        ...,\n",
      "        [255, 255, ..., 255, 255],\n",
      "        [255, 255, ..., 255, 255]],\n",
      "\n",
      "       [[255, 255, ..., 255, 255],\n",
      "        [255, 255, ..., 255, 255],\n",
      "        ...,\n",
      "        [255, 255, ..., 255, 255],\n",
      "        [255, 255, ..., 255, 255]]], dtype=uint8)\n",
      "Coordinates:\n",
      "  * time         (time) datetime64[ns] 624B 2022-09-02T03:35:38.706000 ... 20...\n",
      "  * y            (y) float64 4kB 1.072e+06 1.072e+06 ... 1.067e+06 1.067e+06\n",
      "  * x            (x) float64 7kB 5.95e+05 5.95e+05 ... 6.033e+05 6.033e+05\n",
      "    spatial_ref  int32 4B ...\n",
      "Attributes:\n",
      "    units:             1\n",
      "    nodata:            0\n",
      "    flags_definition:  {'qa': {'bits': [0, 1, 2, 3, 4, 5, 6, 7], 'values': {'...\n",
      "    crs:               EPSG:32648\n",
      "    grid_mapping:      spatial_ref\n"
     ]
    }
   ],
   "source": [
    "print(data[flag_name])"
   ]
  },
  {
   "cell_type": "code",
   "execution_count": null,
   "metadata": {},
   "outputs": [],
   "source": [
    "data_layer_names = [x for x in data.data_vars if x != 'scl']\n",
    "rs = []\n",
    "for layer_name in data_layer_names:\n",
    "    # Apply valid mask (calculated above) and good pixel mask\n",
    "    # layer = data[[layer_name]].where(valid_mask[layer_name] & good_pixel_mask)\n",
    "    layer = data[[layer_name]].where(good_pixel_mask)\n",
    "    rs.append(layer)\n",
    "    \n",
    "# Calculate intermediate result\n",
    "result = xr.merge(rs).persist()\n",
    "\n",
    "display(result)"
   ]
  },
  {
   "cell_type": "code",
   "execution_count": null,
   "metadata": {},
   "outputs": [],
   "source": [
    "ds1 = calculate_indices(result, index='NDVI', satellite_mission='s2')\n",
    "ndvi = ds1[\"NDVI\"]\n",
    "average_ndvi = ndvi.resample(time='1M').mean().persist()  ## tính mean cho từng tháng -> time = 13\n",
    "average_ndvi  # DataArray"
   ]
  },
  {
   "cell_type": "code",
   "execution_count": null,
   "metadata": {},
   "outputs": [],
   "source": [
    "average_ndvi = average_ndvi.compute()\n",
    "plt.imshow(average_ndvi.isel(time=5))"
   ]
  }
 ],
 "metadata": {
  "kernelspec": {
   "display_name": "deafrica-tools-env",
   "language": "python",
   "name": "python3"
  },
  "language_info": {
   "codemirror_mode": {
    "name": "ipython",
    "version": 3
   },
   "file_extension": ".py",
   "mimetype": "text/x-python",
   "name": "python",
   "nbconvert_exporter": "python",
   "pygments_lexer": "ipython3",
   "version": "3.10.6"
  }
 },
 "nbformat": 4,
 "nbformat_minor": 2
}
